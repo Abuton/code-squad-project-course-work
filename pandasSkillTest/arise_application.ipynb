{
 "cells": [
  {
   "cell_type": "markdown",
   "metadata": {},
   "source": [
    "# Arise Application Challenge\n",
    "---"
   ]
  },
  {
   "cell_type": "markdown",
   "metadata": {},
   "source": [
    "Please answer the questions shown below by completing the code within this notebook and filling in your final answers in the respective block of the arise Challenge Answers form. "
   ]
  },
  {
   "cell_type": "markdown",
   "metadata": {},
   "source": [
    "---"
   ]
  },
  {
   "cell_type": "markdown",
   "metadata": {},
   "source": [
    "### Step 1 (this step does not have an answer in the answer form)"
   ]
  },
  {
   "cell_type": "markdown",
   "metadata": {},
   "source": [
    "Please import the Pandas package. You will need to install the package if you do not already have them (`hint - google anaconda install pandas`)."
   ]
  },
  {
   "cell_type": "code",
   "execution_count": 1,
   "metadata": {},
   "outputs": [],
   "source": [
    "# Add your code for Question 1 in this code block\n",
    "import pandas as pd"
   ]
  },
  {
   "cell_type": "code",
   "execution_count": 2,
   "metadata": {},
   "outputs": [],
   "source": [
    "import pandas as pd"
   ]
  },
  {
   "cell_type": "markdown",
   "metadata": {},
   "source": [
    "---"
   ]
  },
  {
   "cell_type": "markdown",
   "metadata": {},
   "source": [
    "### Step 2 (this step does not have an answer in the answer form)"
   ]
  },
  {
   "cell_type": "markdown",
   "metadata": {},
   "source": [
    "Use Pandas to read in the csv titled `application_data.csv` as a Panda's dataframe. Once you have read in the data as a dataframe use Panda's `head()` function to show an overview of the data."
   ]
  },
  {
   "cell_type": "code",
   "execution_count": 3,
   "metadata": {},
   "outputs": [
    {
     "data": {
      "text/html": [
       "<div>\n",
       "<style scoped>\n",
       "    .dataframe tbody tr th:only-of-type {\n",
       "        vertical-align: middle;\n",
       "    }\n",
       "\n",
       "    .dataframe tbody tr th {\n",
       "        vertical-align: top;\n",
       "    }\n",
       "\n",
       "    .dataframe thead th {\n",
       "        text-align: right;\n",
       "    }\n",
       "</style>\n",
       "<table border=\"1\" class=\"dataframe\">\n",
       "  <thead>\n",
       "    <tr style=\"text-align: right;\">\n",
       "      <th></th>\n",
       "      <th>customerID</th>\n",
       "      <th>loanId</th>\n",
       "      <th>appilcationDate</th>\n",
       "      <th>LoanNumber</th>\n",
       "      <th>LoanAmount</th>\n",
       "      <th>InterestRate</th>\n",
       "      <th>TermDays</th>\n",
       "      <th>repaymentDueDate</th>\n",
       "      <th>repaymentPaidDate</th>\n",
       "    </tr>\n",
       "  </thead>\n",
       "  <tbody>\n",
       "    <tr>\n",
       "      <th>0</th>\n",
       "      <td>839247458</td>\n",
       "      <td>302953235622</td>\n",
       "      <td>2018-12-21</td>\n",
       "      <td>1</td>\n",
       "      <td>7500.0</td>\n",
       "      <td>30.0</td>\n",
       "      <td>30</td>\n",
       "      <td>2019-01-20</td>\n",
       "      <td>2019-01-16</td>\n",
       "    </tr>\n",
       "    <tr>\n",
       "      <th>1</th>\n",
       "      <td>217540860</td>\n",
       "      <td>302960101337</td>\n",
       "      <td>2018-12-23</td>\n",
       "      <td>1</td>\n",
       "      <td>7500.0</td>\n",
       "      <td>30.0</td>\n",
       "      <td>30</td>\n",
       "      <td>2019-01-22</td>\n",
       "      <td>2018-12-29</td>\n",
       "    </tr>\n",
       "    <tr>\n",
       "      <th>2</th>\n",
       "      <td>522238092</td>\n",
       "      <td>303016988846</td>\n",
       "      <td>2019-01-08</td>\n",
       "      <td>1</td>\n",
       "      <td>7500.0</td>\n",
       "      <td>30.0</td>\n",
       "      <td>30</td>\n",
       "      <td>2019-02-07</td>\n",
       "      <td>2019-01-08</td>\n",
       "    </tr>\n",
       "    <tr>\n",
       "      <th>3</th>\n",
       "      <td>096754469</td>\n",
       "      <td>302999605504</td>\n",
       "      <td>2019-01-04</td>\n",
       "      <td>1</td>\n",
       "      <td>7500.0</td>\n",
       "      <td>30.0</td>\n",
       "      <td>30</td>\n",
       "      <td>2019-02-03</td>\n",
       "      <td>2019-01-08</td>\n",
       "    </tr>\n",
       "    <tr>\n",
       "      <th>4</th>\n",
       "      <td>410354345</td>\n",
       "      <td>302951945878</td>\n",
       "      <td>2018-12-21</td>\n",
       "      <td>1</td>\n",
       "      <td>7500.0</td>\n",
       "      <td>30.0</td>\n",
       "      <td>30</td>\n",
       "      <td>2019-01-20</td>\n",
       "      <td>2019-01-17</td>\n",
       "    </tr>\n",
       "  </tbody>\n",
       "</table>\n",
       "</div>"
      ],
      "text/plain": [
       "  customerID        loanId appilcationDate  LoanNumber  LoanAmount  \\\n",
       "0  839247458  302953235622      2018-12-21           1      7500.0   \n",
       "1  217540860  302960101337      2018-12-23           1      7500.0   \n",
       "2  522238092  303016988846      2019-01-08           1      7500.0   \n",
       "3  096754469  302999605504      2019-01-04           1      7500.0   \n",
       "4  410354345  302951945878      2018-12-21           1      7500.0   \n",
       "\n",
       "   InterestRate  TermDays repaymentDueDate repaymentPaidDate  \n",
       "0          30.0        30       2019-01-20        2019-01-16  \n",
       "1          30.0        30       2019-01-22        2018-12-29  \n",
       "2          30.0        30       2019-02-07        2019-01-08  \n",
       "3          30.0        30       2019-02-03        2019-01-08  \n",
       "4          30.0        30       2019-01-20        2019-01-17  "
      ]
     },
     "execution_count": 3,
     "metadata": {},
     "output_type": "execute_result"
    }
   ],
   "source": [
    "# Add your code for Question 2 in this code block\n",
    "df = pd.read_csv('application_data.csv')\n",
    "df.head()"
   ]
  },
  {
   "cell_type": "code",
   "execution_count": 4,
   "metadata": {},
   "outputs": [
    {
     "data": {
      "text/html": [
       "<div>\n",
       "<style scoped>\n",
       "    .dataframe tbody tr th:only-of-type {\n",
       "        vertical-align: middle;\n",
       "    }\n",
       "\n",
       "    .dataframe tbody tr th {\n",
       "        vertical-align: top;\n",
       "    }\n",
       "\n",
       "    .dataframe thead th {\n",
       "        text-align: right;\n",
       "    }\n",
       "</style>\n",
       "<table border=\"1\" class=\"dataframe\">\n",
       "  <thead>\n",
       "    <tr style=\"text-align: right;\">\n",
       "      <th></th>\n",
       "      <th>customerID</th>\n",
       "      <th>loanId</th>\n",
       "      <th>appilcationDate</th>\n",
       "      <th>LoanNumber</th>\n",
       "      <th>LoanAmount</th>\n",
       "      <th>InterestRate</th>\n",
       "      <th>TermDays</th>\n",
       "      <th>repaymentDueDate</th>\n",
       "      <th>repaymentPaidDate</th>\n",
       "    </tr>\n",
       "  </thead>\n",
       "  <tbody>\n",
       "    <tr>\n",
       "      <th>0</th>\n",
       "      <td>839247458</td>\n",
       "      <td>302953235622</td>\n",
       "      <td>2018-12-21</td>\n",
       "      <td>1</td>\n",
       "      <td>7500.0</td>\n",
       "      <td>30.0</td>\n",
       "      <td>30</td>\n",
       "      <td>2019-01-20</td>\n",
       "      <td>2019-01-16</td>\n",
       "    </tr>\n",
       "    <tr>\n",
       "      <th>1</th>\n",
       "      <td>217540860</td>\n",
       "      <td>302960101337</td>\n",
       "      <td>2018-12-23</td>\n",
       "      <td>1</td>\n",
       "      <td>7500.0</td>\n",
       "      <td>30.0</td>\n",
       "      <td>30</td>\n",
       "      <td>2019-01-22</td>\n",
       "      <td>2018-12-29</td>\n",
       "    </tr>\n",
       "    <tr>\n",
       "      <th>2</th>\n",
       "      <td>522238092</td>\n",
       "      <td>303016988846</td>\n",
       "      <td>2019-01-08</td>\n",
       "      <td>1</td>\n",
       "      <td>7500.0</td>\n",
       "      <td>30.0</td>\n",
       "      <td>30</td>\n",
       "      <td>2019-02-07</td>\n",
       "      <td>2019-01-08</td>\n",
       "    </tr>\n",
       "    <tr>\n",
       "      <th>3</th>\n",
       "      <td>096754469</td>\n",
       "      <td>302999605504</td>\n",
       "      <td>2019-01-04</td>\n",
       "      <td>1</td>\n",
       "      <td>7500.0</td>\n",
       "      <td>30.0</td>\n",
       "      <td>30</td>\n",
       "      <td>2019-02-03</td>\n",
       "      <td>2019-01-08</td>\n",
       "    </tr>\n",
       "    <tr>\n",
       "      <th>4</th>\n",
       "      <td>410354345</td>\n",
       "      <td>302951945878</td>\n",
       "      <td>2018-12-21</td>\n",
       "      <td>1</td>\n",
       "      <td>7500.0</td>\n",
       "      <td>30.0</td>\n",
       "      <td>30</td>\n",
       "      <td>2019-01-20</td>\n",
       "      <td>2019-01-17</td>\n",
       "    </tr>\n",
       "  </tbody>\n",
       "</table>\n",
       "</div>"
      ],
      "text/plain": [
       "  customerID        loanId appilcationDate  LoanNumber  LoanAmount  \\\n",
       "0  839247458  302953235622      2018-12-21           1      7500.0   \n",
       "1  217540860  302960101337      2018-12-23           1      7500.0   \n",
       "2  522238092  303016988846      2019-01-08           1      7500.0   \n",
       "3  096754469  302999605504      2019-01-04           1      7500.0   \n",
       "4  410354345  302951945878      2018-12-21           1      7500.0   \n",
       "\n",
       "   InterestRate  TermDays repaymentDueDate repaymentPaidDate  \n",
       "0          30.0        30       2019-01-20        2019-01-16  \n",
       "1          30.0        30       2019-01-22        2018-12-29  \n",
       "2          30.0        30       2019-02-07        2019-01-08  \n",
       "3          30.0        30       2019-02-03        2019-01-08  \n",
       "4          30.0        30       2019-01-20        2019-01-17  "
      ]
     },
     "execution_count": 4,
     "metadata": {},
     "output_type": "execute_result"
    }
   ],
   "source": [
    "df = pd.read_csv('application_data.csv')\n",
    "df.head()"
   ]
  },
  {
   "cell_type": "markdown",
   "metadata": {},
   "source": [
    "You should now be able to see that the dataset contains information relating to loans that have been disbursed. Each row of the data is specific to a particular loan and displays the customer's ID that took out the loan, a unique loan ID, the date when the client applied for the loan, the loan number of the specific loan (how many loans the client has now taken out), the amount, interest rate, term days, the date when the loan repayment was due and the date the loan was actually repaid."
   ]
  },
  {
   "cell_type": "markdown",
   "metadata": {},
   "source": [
    "---"
   ]
  },
  {
   "cell_type": "markdown",
   "metadata": {},
   "source": [
    "### Question 1"
   ]
  },
  {
   "cell_type": "markdown",
   "metadata": {},
   "source": [
    "Convert `appilcationDate`, `repaymentDueDate` and `repaymentPaidDate` in the dataframes to datetimes. "
   ]
  },
  {
   "cell_type": "code",
   "execution_count": 5,
   "metadata": {},
   "outputs": [],
   "source": [
    "# convert to dates\n",
    "\n",
    "df['appilcationDate'] = pd.to_datetime(df.appilcationDate)\n",
    "df['repaymentDueDate'] = pd.to_datetime(df.repaymentDueDate)\n",
    "df['repaymentPaidDate'] = pd.to_datetime(df.repaymentPaidDate)"
   ]
  },
  {
   "cell_type": "code",
   "execution_count": 6,
   "metadata": {},
   "outputs": [
    {
     "name": "stdout",
     "output_type": "stream",
     "text": [
      "<class 'pandas.core.frame.DataFrame'>\n",
      "RangeIndex: 1000 entries, 0 to 999\n",
      "Data columns (total 9 columns):\n",
      "customerID           1000 non-null object\n",
      "loanId               1000 non-null object\n",
      "appilcationDate      1000 non-null datetime64[ns]\n",
      "LoanNumber           1000 non-null int64\n",
      "LoanAmount           1000 non-null float64\n",
      "InterestRate         1000 non-null float64\n",
      "TermDays             1000 non-null int64\n",
      "repaymentDueDate     1000 non-null datetime64[ns]\n",
      "repaymentPaidDate    1000 non-null datetime64[ns]\n",
      "dtypes: datetime64[ns](3), float64(2), int64(2), object(2)\n",
      "memory usage: 70.4+ KB\n"
     ]
    }
   ],
   "source": [
    "df['appilcationDate'] = pd.to_datetime(df['appilcationDate'])\n",
    "df['repaymentDueDate'] = pd.to_datetime(df['repaymentDueDate'])\n",
    "df['repaymentPaidDate'] = pd.to_datetime(df['repaymentPaidDate'])\n",
    "df.info()"
   ]
  },
  {
   "cell_type": "markdown",
   "metadata": {},
   "source": [
    "Now that the dates have been converted, How many `unique`data types are contained within the application dataset?"
   ]
  },
  {
   "cell_type": "code",
   "execution_count": 7,
   "metadata": {},
   "outputs": [
    {
     "name": "stdout",
     "output_type": "stream",
     "text": [
      "254\n"
     ]
    },
    {
     "data": {
      "text/plain": [
       "4"
      ]
     },
     "execution_count": 7,
     "metadata": {},
     "output_type": "execute_result"
    }
   ],
   "source": [
    "# data types\n",
    "no_unique_type = len(df['appilcationDate'].unique())\n",
    "print(no_unique_type)\n",
    "len(df.dtypes.unique())"
   ]
  },
  {
   "cell_type": "code",
   "execution_count": 8,
   "metadata": {},
   "outputs": [
    {
     "name": "stdout",
     "output_type": "stream",
     "text": [
      "the number of unique datatype is 4\n"
     ]
    }
   ],
   "source": [
    "print('the number of unique datatype is',df.dtypes.nunique())"
   ]
  },
  {
   "cell_type": "markdown",
   "metadata": {},
   "source": [
    "### Question 2"
   ]
  },
  {
   "cell_type": "markdown",
   "metadata": {},
   "source": [
    "Please calculate the `average` loan amount, interest rate and termdays for all the loans in the dataset? `Round` all number to two decimal places."
   ]
  },
  {
   "cell_type": "code",
   "execution_count": 9,
   "metadata": {},
   "outputs": [
    {
     "name": "stdout",
     "output_type": "stream",
     "text": [
      "13828.08\n"
     ]
    }
   ],
   "source": [
    "import numpy as np\n",
    "# 2a avg loan amount\n",
    "loan_amt_avg = df['LoanAmount'].mean()\n",
    "print(np.round(loan_amt_avg, decimals=2))"
   ]
  },
  {
   "cell_type": "code",
   "execution_count": 10,
   "metadata": {},
   "outputs": [
    {
     "name": "stdout",
     "output_type": "stream",
     "text": [
      "Average loan Amount 13828.08\n"
     ]
    }
   ],
   "source": [
    "print('Average loan Amount', df['LoanAmount'].mean().round(2))"
   ]
  },
  {
   "cell_type": "code",
   "execution_count": 11,
   "metadata": {},
   "outputs": [
    {
     "name": "stdout",
     "output_type": "stream",
     "text": [
      "23.06\n"
     ]
    }
   ],
   "source": [
    "# 2b avg interest rate\n",
    "interest_rate_avg = df['InterestRate'].mean()\n",
    "print(np.round(interest_rate_avg, decimals=2))"
   ]
  },
  {
   "cell_type": "code",
   "execution_count": 12,
   "metadata": {},
   "outputs": [
    {
     "name": "stdout",
     "output_type": "stream",
     "text": [
      "Average InterestRate 23.06\n"
     ]
    }
   ],
   "source": [
    "print('Average InterestRate', df['InterestRate'].mean().round(2))"
   ]
  },
  {
   "cell_type": "code",
   "execution_count": 13,
   "metadata": {},
   "outputs": [
    {
     "name": "stdout",
     "output_type": "stream",
     "text": [
      "42.08\n"
     ]
    }
   ],
   "source": [
    "# 2c avg term days \n",
    "term_day_avg = df['TermDays'].mean()\n",
    "print(np.round(term_day_avg, decimals=2))"
   ]
  },
  {
   "cell_type": "code",
   "execution_count": 14,
   "metadata": {},
   "outputs": [
    {
     "name": "stdout",
     "output_type": "stream",
     "text": [
      "Average TermDays 42.08\n"
     ]
    }
   ],
   "source": [
    "print('Average TermDays', df['TermDays'].mean().round(2))"
   ]
  },
  {
   "cell_type": "markdown",
   "metadata": {},
   "source": [
    "---"
   ]
  },
  {
   "cell_type": "markdown",
   "metadata": {},
   "source": [
    "### Question 3"
   ]
  },
  {
   "cell_type": "markdown",
   "metadata": {},
   "source": [
    "Please create a new column called `dateDifference` which needs to contains the number of days between when the loan was repaid and when it was due to be repaid. \n",
    "\n",
    "Count the number of loans that were paid more than 3 days late. This can be done by first creating a dataframe only containing the loans that were paid more than 3 days late. "
   ]
  },
  {
   "cell_type": "code",
   "execution_count": 15,
   "metadata": {},
   "outputs": [
    {
     "data": {
      "text/plain": [
       "customerID           145\n",
       "loanId               145\n",
       "appilcationDate      145\n",
       "LoanNumber           145\n",
       "LoanAmount           145\n",
       "InterestRate         145\n",
       "TermDays             145\n",
       "repaymentDueDate     145\n",
       "repaymentPaidDate    145\n",
       "dateDifference       145\n",
       "dtype: int64"
      ]
     },
     "execution_count": 15,
     "metadata": {},
     "output_type": "execute_result"
    }
   ],
   "source": [
    "# number of loans more than 3 days late\n",
    "df['dateDifference'] = (df['repaymentPaidDate'] - df['repaymentDueDate']).dt.days\n",
    "date_more_than_3=df[df['dateDifference']>3]\n",
    "# date_more_than_3 = df.dateDifference[df.dateDifference > pd.Timedelta(3, 'D')].count()\n",
    "date_more_than_3.count()"
   ]
  },
  {
   "cell_type": "code",
   "execution_count": 18,
   "metadata": {},
   "outputs": [
    {
     "data": {
      "text/html": [
       "<div>\n",
       "<style scoped>\n",
       "    .dataframe tbody tr th:only-of-type {\n",
       "        vertical-align: middle;\n",
       "    }\n",
       "\n",
       "    .dataframe tbody tr th {\n",
       "        vertical-align: top;\n",
       "    }\n",
       "\n",
       "    .dataframe thead th {\n",
       "        text-align: right;\n",
       "    }\n",
       "</style>\n",
       "<table border=\"1\" class=\"dataframe\">\n",
       "  <thead>\n",
       "    <tr style=\"text-align: right;\">\n",
       "      <th></th>\n",
       "      <th>customerID</th>\n",
       "      <th>loanId</th>\n",
       "      <th>appilcationDate</th>\n",
       "      <th>LoanNumber</th>\n",
       "      <th>LoanAmount</th>\n",
       "      <th>InterestRate</th>\n",
       "      <th>TermDays</th>\n",
       "      <th>repaymentDueDate</th>\n",
       "      <th>repaymentPaidDate</th>\n",
       "      <th>dateDifference</th>\n",
       "    </tr>\n",
       "  </thead>\n",
       "  <tbody>\n",
       "    <tr>\n",
       "      <th>397</th>\n",
       "      <td>GH35460722</td>\n",
       "      <td>100016172</td>\n",
       "      <td>2018-01-30</td>\n",
       "      <td>5</td>\n",
       "      <td>80.0</td>\n",
       "      <td>15.0</td>\n",
       "      <td>15</td>\n",
       "      <td>2018-02-14</td>\n",
       "      <td>2018-03-01</td>\n",
       "      <td>15</td>\n",
       "    </tr>\n",
       "    <tr>\n",
       "      <th>410</th>\n",
       "      <td>GH85390929</td>\n",
       "      <td>100015715</td>\n",
       "      <td>2018-01-27</td>\n",
       "      <td>2</td>\n",
       "      <td>80.0</td>\n",
       "      <td>15.0</td>\n",
       "      <td>15</td>\n",
       "      <td>2018-02-12</td>\n",
       "      <td>2018-02-16</td>\n",
       "      <td>4</td>\n",
       "    </tr>\n",
       "    <tr>\n",
       "      <th>419</th>\n",
       "      <td>GH06832511</td>\n",
       "      <td>100014400</td>\n",
       "      <td>2018-01-20</td>\n",
       "      <td>1</td>\n",
       "      <td>80.0</td>\n",
       "      <td>15.0</td>\n",
       "      <td>15</td>\n",
       "      <td>2018-02-05</td>\n",
       "      <td>2018-02-14</td>\n",
       "      <td>9</td>\n",
       "    </tr>\n",
       "    <tr>\n",
       "      <th>424</th>\n",
       "      <td>GH26139148</td>\n",
       "      <td>100017099</td>\n",
       "      <td>2018-02-04</td>\n",
       "      <td>2</td>\n",
       "      <td>80.0</td>\n",
       "      <td>15.0</td>\n",
       "      <td>15</td>\n",
       "      <td>2018-02-19</td>\n",
       "      <td>2018-02-27</td>\n",
       "      <td>8</td>\n",
       "    </tr>\n",
       "    <tr>\n",
       "      <th>426</th>\n",
       "      <td>GH03825373</td>\n",
       "      <td>100012495</td>\n",
       "      <td>2018-01-13</td>\n",
       "      <td>1</td>\n",
       "      <td>80.0</td>\n",
       "      <td>15.0</td>\n",
       "      <td>15</td>\n",
       "      <td>2018-01-29</td>\n",
       "      <td>2018-02-13</td>\n",
       "      <td>15</td>\n",
       "    </tr>\n",
       "    <tr>\n",
       "      <th>...</th>\n",
       "      <td>...</td>\n",
       "      <td>...</td>\n",
       "      <td>...</td>\n",
       "      <td>...</td>\n",
       "      <td>...</td>\n",
       "      <td>...</td>\n",
       "      <td>...</td>\n",
       "      <td>...</td>\n",
       "      <td>...</td>\n",
       "      <td>...</td>\n",
       "    </tr>\n",
       "    <tr>\n",
       "      <th>978</th>\n",
       "      <td>189301655</td>\n",
       "      <td>302565959911</td>\n",
       "      <td>2018-10-13</td>\n",
       "      <td>2</td>\n",
       "      <td>7500.0</td>\n",
       "      <td>30.0</td>\n",
       "      <td>30</td>\n",
       "      <td>2018-11-12</td>\n",
       "      <td>2018-11-20</td>\n",
       "      <td>8</td>\n",
       "    </tr>\n",
       "    <tr>\n",
       "      <th>980</th>\n",
       "      <td>874756930</td>\n",
       "      <td>302885631</td>\n",
       "      <td>2018-03-07</td>\n",
       "      <td>2</td>\n",
       "      <td>7500.0</td>\n",
       "      <td>30.0</td>\n",
       "      <td>30</td>\n",
       "      <td>2018-04-06</td>\n",
       "      <td>2018-04-17</td>\n",
       "      <td>11</td>\n",
       "    </tr>\n",
       "    <tr>\n",
       "      <th>983</th>\n",
       "      <td>351491824</td>\n",
       "      <td>302607848</td>\n",
       "      <td>2018-01-08</td>\n",
       "      <td>1</td>\n",
       "      <td>7500.0</td>\n",
       "      <td>30.0</td>\n",
       "      <td>30</td>\n",
       "      <td>2018-02-09</td>\n",
       "      <td>2018-05-09</td>\n",
       "      <td>89</td>\n",
       "    </tr>\n",
       "    <tr>\n",
       "      <th>987</th>\n",
       "      <td>576830620</td>\n",
       "      <td>302856088</td>\n",
       "      <td>2018-03-01</td>\n",
       "      <td>3</td>\n",
       "      <td>7500.0</td>\n",
       "      <td>30.0</td>\n",
       "      <td>30</td>\n",
       "      <td>2018-03-31</td>\n",
       "      <td>2018-07-12</td>\n",
       "      <td>103</td>\n",
       "    </tr>\n",
       "    <tr>\n",
       "      <th>997</th>\n",
       "      <td>899011279</td>\n",
       "      <td>302585439</td>\n",
       "      <td>2018-01-03</td>\n",
       "      <td>3</td>\n",
       "      <td>7500.0</td>\n",
       "      <td>30.0</td>\n",
       "      <td>30</td>\n",
       "      <td>2018-02-02</td>\n",
       "      <td>2018-10-12</td>\n",
       "      <td>252</td>\n",
       "    </tr>\n",
       "  </tbody>\n",
       "</table>\n",
       "<p>145 rows × 10 columns</p>\n",
       "</div>"
      ],
      "text/plain": [
       "     customerID        loanId appilcationDate  LoanNumber  LoanAmount  \\\n",
       "397  GH35460722     100016172      2018-01-30           5        80.0   \n",
       "410  GH85390929     100015715      2018-01-27           2        80.0   \n",
       "419  GH06832511     100014400      2018-01-20           1        80.0   \n",
       "424  GH26139148     100017099      2018-02-04           2        80.0   \n",
       "426  GH03825373     100012495      2018-01-13           1        80.0   \n",
       "..          ...           ...             ...         ...         ...   \n",
       "978   189301655  302565959911      2018-10-13           2      7500.0   \n",
       "980   874756930     302885631      2018-03-07           2      7500.0   \n",
       "983   351491824     302607848      2018-01-08           1      7500.0   \n",
       "987   576830620     302856088      2018-03-01           3      7500.0   \n",
       "997   899011279     302585439      2018-01-03           3      7500.0   \n",
       "\n",
       "     InterestRate  TermDays repaymentDueDate repaymentPaidDate  dateDifference  \n",
       "397          15.0        15       2018-02-14        2018-03-01              15  \n",
       "410          15.0        15       2018-02-12        2018-02-16               4  \n",
       "419          15.0        15       2018-02-05        2018-02-14               9  \n",
       "424          15.0        15       2018-02-19        2018-02-27               8  \n",
       "426          15.0        15       2018-01-29        2018-02-13              15  \n",
       "..            ...       ...              ...               ...             ...  \n",
       "978          30.0        30       2018-11-12        2018-11-20               8  \n",
       "980          30.0        30       2018-04-06        2018-04-17              11  \n",
       "983          30.0        30       2018-02-09        2018-05-09              89  \n",
       "987          30.0        30       2018-03-31        2018-07-12             103  \n",
       "997          30.0        30       2018-02-02        2018-10-12             252  \n",
       "\n",
       "[145 rows x 10 columns]"
      ]
     },
     "execution_count": 18,
     "metadata": {},
     "output_type": "execute_result"
    }
   ],
   "source": [
    "date_more_than_3"
   ]
  },
  {
   "cell_type": "markdown",
   "metadata": {},
   "source": [
    "---"
   ]
  },
  {
   "cell_type": "markdown",
   "metadata": {},
   "source": [
    "### Question 4"
   ]
  },
  {
   "cell_type": "markdown",
   "metadata": {},
   "source": [
    "Please group the dataset by `TermDays` and calculate the `mean` loan amount and the `standard deviation` of loan amount within each term.\n",
    "\n",
    "What is the mean loan amount in 30-day loans and what is the standard deviation of  loan amount in 90-day loans? Please give your answers to the nearest two decimal places. "
   ]
  },
  {
   "cell_type": "code",
   "execution_count": 19,
   "metadata": {},
   "outputs": [],
   "source": [
    "group = df.groupby('TermDays')['LoanAmount'].agg(['mean', 'std'])"
   ]
  },
  {
   "cell_type": "code",
   "execution_count": 20,
   "metadata": {},
   "outputs": [
    {
     "name": "stdout",
     "output_type": "stream",
     "text": [
      "Mean LoanAmount in 30-days loans is 7941.96\n",
      "Standard Deviation of loanAmount in 90-days loans is 18050.14\n"
     ]
    }
   ],
   "source": [
    "print('Mean LoanAmount in 30-days loans is', group.loc[30, 'mean'].round(2))\n",
    "print('Standard Deviation of loanAmount in 90-days loans is', group.loc[90,'std'].round(2))"
   ]
  },
  {
   "cell_type": "code",
   "execution_count": 21,
   "metadata": {},
   "outputs": [
    {
     "name": "stdout",
     "output_type": "stream",
     "text": [
      "Mean Loan Amount in 30 Days  1    7941.96\n",
      "Name: mean, dtype: float64\n",
      "Std Loan Amount in 90 Days  4    18050.14\n",
      "Name: std, dtype: float64\n",
      "  TermDays LoanAmount          \n",
      "                 mean       std\n",
      "0       15    1274.09   2885.97\n",
      "1       30    7941.96   1606.04\n",
      "2       45   10706.25   2346.14\n",
      "3       60   25710.53  11559.65\n",
      "4       90   37672.73  18050.14\n",
      "5      120   45055.56  22192.97\n",
      "6      180   80988.10  34612.22\n"
     ]
    }
   ],
   "source": [
    "# mean loan amount in 30-day loans and standard deviation of loan amount in 90-day loans\n",
    "grouping = df.groupby('TermDays', as_index=False).agg({'LoanAmount':['mean', 'std']}).round(2)\n",
    "grouping_mean_30_days = grouping.loc[[1], 'LoanAmount']['mean']\n",
    "grouping_std_90_days = grouping.loc[[4], 'LoanAmount']['std']\n",
    "print(\"Mean Loan Amount in 30 Days \", grouping_mean_30_days)\n",
    "print(\"Std Loan Amount in 90 Days \", grouping_std_90_days)\n",
    "print(grouping)"
   ]
  },
  {
   "cell_type": "markdown",
   "metadata": {},
   "source": [
    "--- "
   ]
  },
  {
   "cell_type": "markdown",
   "metadata": {},
   "source": [
    "### Question 5"
   ]
  },
  {
   "cell_type": "markdown",
   "metadata": {},
   "source": [
    "`Late` loans are defined as loans that were paid `more than 3 days` after their due date. Please find the average number of days that these loans were paid beyond their due date for each `week of the year`. This will require you to break all `appilcationDate's` down into the week of the year they were made and then perform a group by. \n",
    "\n",
    "What is the average number of days that `late` loans applied for in the second week of the year were paid late? Please sumbit your answer rounded to two decimal places. "
   ]
  },
  {
   "cell_type": "code",
   "execution_count": 27,
   "metadata": {},
   "outputs": [
    {
     "data": {
      "text/plain": [
       "week\n",
       "1      87.60\n",
       "2      45.75\n",
       "3      16.50\n",
       "4      37.92\n",
       "5      18.00\n",
       "6      39.71\n",
       "7      29.25\n",
       "8      25.15\n",
       "9      55.86\n",
       "10     29.25\n",
       "11     71.50\n",
       "12     19.50\n",
       "13     34.00\n",
       "14     14.00\n",
       "15      7.00\n",
       "17     34.50\n",
       "19     66.50\n",
       "20     28.00\n",
       "21     10.00\n",
       "22     88.00\n",
       "23     11.00\n",
       "24     36.00\n",
       "26     27.33\n",
       "27      4.00\n",
       "28      7.00\n",
       "29     69.00\n",
       "30     65.00\n",
       "31    108.00\n",
       "32     15.50\n",
       "33     30.00\n",
       "34     14.00\n",
       "35      4.00\n",
       "36     39.33\n",
       "37     17.20\n",
       "38     60.00\n",
       "39      9.00\n",
       "40      9.00\n",
       "41      8.00\n",
       "42     20.00\n",
       "44      9.00\n",
       "45      6.00\n",
       "48     18.00\n",
       "Name: dateDifference, dtype: float64"
      ]
     },
     "execution_count": 27,
     "metadata": {},
     "output_type": "execute_result"
    }
   ],
   "source": [
    "df['week'] = df['appilcationDate'].dt.week\n",
    "df['dateDifference'] = (df['repaymentPaidDate'] - df['repaymentDueDate']).dt.days\n",
    "date_more_than_3=df[df['dateDifference']>3]\n",
    "date_more_than_3.groupby('week')['dateDifference'].mean().round(2)"
   ]
  },
  {
   "cell_type": "code",
   "execution_count": 10,
   "metadata": {},
   "outputs": [
    {
     "data": {
      "text/html": [
       "<div>\n",
       "<style scoped>\n",
       "    .dataframe tbody tr th:only-of-type {\n",
       "        vertical-align: middle;\n",
       "    }\n",
       "\n",
       "    .dataframe tbody tr th {\n",
       "        vertical-align: top;\n",
       "    }\n",
       "\n",
       "    .dataframe thead th {\n",
       "        text-align: right;\n",
       "    }\n",
       "</style>\n",
       "<table border=\"1\" class=\"dataframe\">\n",
       "  <thead>\n",
       "    <tr style=\"text-align: right;\">\n",
       "      <th></th>\n",
       "      <th>customerID</th>\n",
       "      <th>loanId</th>\n",
       "      <th>appilcationDate</th>\n",
       "      <th>LoanNumber</th>\n",
       "      <th>LoanAmount</th>\n",
       "      <th>InterestRate</th>\n",
       "      <th>TermDays</th>\n",
       "      <th>repaymentDueDate</th>\n",
       "      <th>repaymentPaidDate</th>\n",
       "      <th>dateDifference</th>\n",
       "    </tr>\n",
       "  </thead>\n",
       "  <tbody>\n",
       "    <tr>\n",
       "      <th>0</th>\n",
       "      <td>839247458</td>\n",
       "      <td>302953235622</td>\n",
       "      <td>2018-12-21</td>\n",
       "      <td>1</td>\n",
       "      <td>7500.0</td>\n",
       "      <td>30.0</td>\n",
       "      <td>30</td>\n",
       "      <td>2019-01-20</td>\n",
       "      <td>2019-01-16</td>\n",
       "      <td>-4</td>\n",
       "    </tr>\n",
       "    <tr>\n",
       "      <th>1</th>\n",
       "      <td>217540860</td>\n",
       "      <td>302960101337</td>\n",
       "      <td>2018-12-23</td>\n",
       "      <td>1</td>\n",
       "      <td>7500.0</td>\n",
       "      <td>30.0</td>\n",
       "      <td>30</td>\n",
       "      <td>2019-01-22</td>\n",
       "      <td>2018-12-29</td>\n",
       "      <td>-24</td>\n",
       "    </tr>\n",
       "  </tbody>\n",
       "</table>\n",
       "</div>"
      ],
      "text/plain": [
       "  customerID        loanId appilcationDate  LoanNumber  LoanAmount  \\\n",
       "0  839247458  302953235622      2018-12-21           1      7500.0   \n",
       "1  217540860  302960101337      2018-12-23           1      7500.0   \n",
       "\n",
       "   InterestRate  TermDays repaymentDueDate repaymentPaidDate  dateDifference  \n",
       "0          30.0        30       2019-01-20        2019-01-16              -4  \n",
       "1          30.0        30       2019-01-22        2018-12-29             -24  "
      ]
     },
     "execution_count": 10,
     "metadata": {},
     "output_type": "execute_result"
    }
   ],
   "source": [
    "df.head(2)"
   ]
  },
  {
   "cell_type": "code",
   "execution_count": 11,
   "metadata": {
    "scrolled": false
   },
   "outputs": [
    {
     "data": {
      "text/html": [
       "<div>\n",
       "<style scoped>\n",
       "    .dataframe tbody tr th:only-of-type {\n",
       "        vertical-align: middle;\n",
       "    }\n",
       "\n",
       "    .dataframe tbody tr th {\n",
       "        vertical-align: top;\n",
       "    }\n",
       "\n",
       "    .dataframe thead th {\n",
       "        text-align: right;\n",
       "    }\n",
       "</style>\n",
       "<table border=\"1\" class=\"dataframe\">\n",
       "  <thead>\n",
       "    <tr style=\"text-align: right;\">\n",
       "      <th></th>\n",
       "      <th>LoanNumber</th>\n",
       "      <th>LoanAmount</th>\n",
       "      <th>InterestRate</th>\n",
       "      <th>TermDays</th>\n",
       "      <th>dateDifference</th>\n",
       "    </tr>\n",
       "    <tr>\n",
       "      <th>appilcationDate</th>\n",
       "      <th></th>\n",
       "      <th></th>\n",
       "      <th></th>\n",
       "      <th></th>\n",
       "      <th></th>\n",
       "    </tr>\n",
       "  </thead>\n",
       "  <tbody>\n",
       "    <tr>\n",
       "      <th>1</th>\n",
       "      <td>1.700000</td>\n",
       "      <td>6758.000000</td>\n",
       "      <td>28.500</td>\n",
       "      <td>28.500</td>\n",
       "      <td>87.600000</td>\n",
       "    </tr>\n",
       "    <tr>\n",
       "      <th>2</th>\n",
       "      <td>1.250000</td>\n",
       "      <td>5645.000000</td>\n",
       "      <td>26.250</td>\n",
       "      <td>26.250</td>\n",
       "      <td>45.750000</td>\n",
       "    </tr>\n",
       "    <tr>\n",
       "      <th>3</th>\n",
       "      <td>2.000000</td>\n",
       "      <td>4717.500000</td>\n",
       "      <td>24.375</td>\n",
       "      <td>24.375</td>\n",
       "      <td>16.500000</td>\n",
       "    </tr>\n",
       "    <tr>\n",
       "      <th>4</th>\n",
       "      <td>1.333333</td>\n",
       "      <td>6263.333333</td>\n",
       "      <td>27.500</td>\n",
       "      <td>27.500</td>\n",
       "      <td>37.916667</td>\n",
       "    </tr>\n",
       "    <tr>\n",
       "      <th>5</th>\n",
       "      <td>2.333333</td>\n",
       "      <td>3790.000000</td>\n",
       "      <td>22.500</td>\n",
       "      <td>22.500</td>\n",
       "      <td>18.000000</td>\n",
       "    </tr>\n",
       "  </tbody>\n",
       "</table>\n",
       "</div>"
      ],
      "text/plain": [
       "                 LoanNumber   LoanAmount  InterestRate  TermDays  \\\n",
       "appilcationDate                                                    \n",
       "1                  1.700000  6758.000000        28.500    28.500   \n",
       "2                  1.250000  5645.000000        26.250    26.250   \n",
       "3                  2.000000  4717.500000        24.375    24.375   \n",
       "4                  1.333333  6263.333333        27.500    27.500   \n",
       "5                  2.333333  3790.000000        22.500    22.500   \n",
       "\n",
       "                 dateDifference  \n",
       "appilcationDate                  \n",
       "1                     87.600000  \n",
       "2                     45.750000  \n",
       "3                     16.500000  \n",
       "4                     37.916667  \n",
       "5                     18.000000  "
      ]
     },
     "execution_count": 11,
     "metadata": {},
     "output_type": "execute_result"
    }
   ],
   "source": [
    "# week of year and average number of late days\n",
    "df['appilcationDate'] = df['appilcationDate'].dt.week\n",
    "\n",
    "late_loan_week = df[df['dateDifference'] > 3]\n",
    "\n",
    "# print(late_loan_week)\n",
    "group_by_late = late_loan_week.groupby('appilcationDate').mean()\n",
    "# avg_no_days_late_in_week_2 = \n",
    "#print(group_by_late['dateDifference'])\n",
    "# print(\"The average number of days late loans applied for in second week of the year\", avg_no_days_late_in_week_2)\n",
    "# df.head()\n",
    "group_by_late.head()"
   ]
  },
  {
   "cell_type": "markdown",
   "metadata": {},
   "source": [
    "---"
   ]
  },
  {
   "cell_type": "markdown",
   "metadata": {},
   "source": [
    "### The End"
   ]
  },
  {
   "cell_type": "markdown",
   "metadata": {},
   "source": [
    "Thank you for completing the challenge. Please make sure you have submitted all of your answers to the arise Challenge Answers form. "
   ]
  },
  {
   "cell_type": "markdown",
   "metadata": {},
   "source": [
    "### Notebook\n",
    "Please save you notebook as `yourEmail.ipynb` where you replace `yourEmail` with your actual email address and attach it to the arise Challenge Answers form. "
   ]
  }
 ],
 "metadata": {
  "kernelspec": {
   "display_name": "Python 3",
   "language": "python",
   "name": "python3"
  },
  "language_info": {
   "codemirror_mode": {
    "name": "ipython",
    "version": 3
   },
   "file_extension": ".py",
   "mimetype": "text/x-python",
   "name": "python",
   "nbconvert_exporter": "python",
   "pygments_lexer": "ipython3",
   "version": "3.7.4"
  }
 },
 "nbformat": 4,
 "nbformat_minor": 2
}
