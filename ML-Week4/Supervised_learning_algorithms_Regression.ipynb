{
 "cells": [
  {
   "cell_type": "markdown",
   "metadata": {},
   "source": [
    "# Data Science Nigeria: Introductory Machine Learning Training\n",
    "\n",
    "<img src='Images/DSN.jpg' alt = \"Data Science Nigeria\" style=\"width:600; height:300\"/>\n"
   ]
  },
  {
   "cell_type": "markdown",
   "metadata": {},
   "source": [
    "## INTRODUCTION TO REGRESSION\n",
    "\n",
    "# Remember,\n",
    "\n",
    "**Machine Learning Models/ Algorithms** allows computer automate tasks that would otherwise take manual efforts, time, as well as resources. It learns how to interpret data to provide insight to humans.\n",
    "\n",
    ">Machine Learning performance improves with experience\n",
    "\n",
    "<table>\n",
    "<tr>\n",
    "<td><img src='./Images/ML Types.png' width= 600, height = 400></td>\n",
    "</tr>\n",
    "</table>\n",
    "\n",
    "<img src='./Images/Supervised Types.jpg' width= 3000, height = 1000> \n",
    "\n",
    ">**Regression** is a set of processes used to estimate relationship between variables. \n",
    "\n",
    "\n",
    "<img src='./Images/regression.jpg' width= 500, height = 200></td>\n",
    " </tr>"
   ]
  },
  {
   "cell_type": "markdown",
   "metadata": {},
   "source": [
    "# LINEAR REGRESSION\n",
    "\n",
    "**Linear** means **“Line”**. For instance, plotting  one X axis against one Y axis. Linearity occurs when relationship between variables can be represented with a straight line."
   ]
  },
  {
   "cell_type": "markdown",
   "metadata": {},
   "source": [
    ">Relationship between variables could be \n",
    "<img src='./Images/relationship.jpg' width= 3000, height = 1000>\n",
    "\n",
    "\n",
    ">Therefore, **ensure you establish linearity between your dataset before implementing a regression model**"
   ]
  },
  {
   "attachments": {
    "image.png": {
     "image/png": "[encoded data removed]"
    }
   },
   "cell_type": "markdown",
   "metadata": {},
   "source": [
    "## Simple Linear Regression\n",
    "\n",
    "A predictive model that uses a straight line to estimate the relationship between one variable (Predictor / independent variable) and another variable (Dependent /Predicted variable). \n",
    "\n",
    "<img src='./Images/lin.jpg' width= 300, height = 200>\n",
    "\n",
    "Remember the equation of straight line y = mx + b\n",
    "\n",
    "where m = slope\n",
    "\n",
    "      b = intercept\n",
    "      \n",
    "Simple Linear Rgression equation is represented by a \n",
    "> \\begin{equation*}\n",
    "\\hat{y}_i=b_0+b_1x_i\n",
    "\\end{equation*}\n",
    "\n",
    "where:\n",
    "* **X:** Independent variable that causes y to change\n",
    "* **bo:** Constant estimator/ intercept for y. Its value is the point at which regression line crosses y axis\n",
    "* **b1:** Cofficient/multiplier that depict the proportion to which a unit change in x is inflated or deflated\n",
    "\n",
    "\n",
    "To conduct a regression analysis, we need to solve for b0 and b1\n",
    "><img src='./Images/eq2.jpg' width= 500, height = 300>\n",
    "\n",
    "![image.png](attachment:image.png)\n",
    "\n",
    "<img src='./Images/b1.jpg' width= 500, height = 300>\n",
    "<img src='./Images/b11.jpg' width= 500, height = 300>\n",
    "<img src='./Images/b12.jpg' width= 500, height = 300>\n",
    "<img src='./Images/b0.jpg' width= 500, height = 300>\n",
    "<img src='./Images/b01.jpg' width= 500, height = 300>\n",
    "<img src='./Images/std.jpg' width= 500, height = 300>\n",
    "<img src='./Images/corr.jpg' width= 500, height = 300>\n",
    "\n",
    "* Predicting salary from years of experience\n",
    "* Determining Glucose level from Age of patients\n",
    "* Predicting salary from years of experience\n",
    "* Predicting students grade based on total study time.\n",
    "* Predicting examination score based on students' test score etc.\n"
   ]
  },
  {
   "cell_type": "code",
   "execution_count": 1,
   "metadata": {},
   "outputs": [],
   "source": [
    "# Importing the libraries\n",
    "import numpy as np\n",
    "import matplotlib.pyplot as plt\n",
    "import pandas as pd"
   ]
  },
  {
   "cell_type": "markdown",
   "metadata": {},
   "source": [
    "### Creating a dataset for linear regression task"
   ]
  },
  {
   "cell_type": "code",
   "execution_count": 2,
   "metadata": {},
   "outputs": [
    {
     "data": {
      "text/plain": [
       "[[-1, -1], [1, 2], [2, 3], [4, 3], [6, 5], [7, 8]]"
      ]
     },
     "execution_count": 2,
     "metadata": {},
     "output_type": "execute_result"
    }
   ],
   "source": [
    "#Creating a list with 5 rows,2 columns\n",
    "data = [[-1,-1],[1,2],[2,3],[4,3],[6,5],[7,8]]\n",
    "data"
   ]
  },
  {
   "cell_type": "markdown",
   "metadata": {},
   "source": [
    "**Data Representation**\n",
    "\n",
    "Since input data to our model **must be an N Dimensional Array**, the list created above must be represented as an Array"
   ]
  },
  {
   "cell_type": "markdown",
   "metadata": {},
   "source": [
    "**_Option 1_**"
   ]
  },
  {
   "cell_type": "code",
   "execution_count": 3,
   "metadata": {},
   "outputs": [
    {
     "name": "stdout",
     "output_type": "stream",
     "text": [
      "   X  y\n",
      "0 -1 -1\n",
      "1  1  2\n",
      "2  2  3\n",
      "3  4  3\n",
      "4  6  5\n",
      "5  7  8\n",
      "Datatype of X and Y :  <class 'pandas.core.frame.DataFrame'>\n",
      "\n",
      " Input Feature X =  [[-1]\n",
      " [ 1]\n",
      " [ 2]\n",
      " [ 4]\n",
      " [ 6]\n",
      " [ 7]] \n",
      " The shape of X =  (6, 1)  \n",
      " Output (Y) =  [-1  2  3  3  5  8] \n",
      " Shape of y =  (6,)\n",
      "Datatype of X and Y :  <class 'numpy.ndarray'> <class 'numpy.ndarray'>\n"
     ]
    }
   ],
   "source": [
    "# Create the pandas DataFrame with the list and add column headers\n",
    "dataset= pd.DataFrame(data, columns = ['X', 'y']) \n",
    "\n",
    "print(dataset)\n",
    "print('Datatype of X and Y : ', type(dataset))\n",
    "\n",
    "\n",
    "# Split the dataset into input (feature X) and output (Target y) from Pandas dataFrame named dataset\n",
    "\n",
    "X = dataset.iloc[:, :-1].values #All rows, all columns excluding the last column indexed -1\n",
    "y = dataset.iloc[:, 1].values #All rows, column 1\n",
    "\n",
    "print ('\\n Input Feature X = ', X, '\\n The shape of X = ',X.shape,  ' \\n Output (Y) = ', y, '\\n Shape of y = ',y.shape)\n",
    "print('Datatype of X and Y : ', type(X), type(y))"
   ]
  },
  {
   "cell_type": "markdown",
   "metadata": {},
   "source": [
    "**_Option 2_**"
   ]
  },
  {
   "cell_type": "code",
   "execution_count": 4,
   "metadata": {},
   "outputs": [
    {
     "name": "stdout",
     "output_type": "stream",
     "text": [
      "Outcome of Stacking the list data [[-1  1  2  4  6  7]\n",
      " [-1  2  3  3  5  8]]\n",
      "\n",
      " Input Feature X =  [[-1]\n",
      " [ 1]\n",
      " [ 2]\n",
      " [ 4]\n",
      " [ 6]\n",
      " [ 7]] \n",
      " The shape of X =  (6, 1)  \n",
      " Output (Y) =  [-1  2  3  3  5  8] \n",
      " Shape of y =  (6,)\n",
      "\n",
      " Datatype of X and Y :  <class 'numpy.ndarray'> <class 'numpy.ndarray'>\n"
     ]
    }
   ],
   "source": [
    "#OR transforming the LIST data into a Numpy array of input (feature X) and output (Target y) \n",
    "Stack_data = np.column_stack(data)\n",
    "print('Outcome of Stacking the list data', Stack_data)\n",
    "\n",
    "X = Stack_data[0].reshape(-1,1) #To change the input feature to 2D array i.e (6,1) instead of (6,)\n",
    "y = Stack_data[1]\n",
    "\n",
    "print ('\\n Input Feature X = ', X, '\\n The shape of X = ',X.shape,  ' \\n Output (Y) = ', y, '\\n Shape of y = ',y.shape)\n",
    "print('\\n Datatype of X and Y : ', type(X), type(y))"
   ]
  },
  {
   "cell_type": "markdown",
   "metadata": {},
   "source": [
    "**We are done with Data representation!!!**"
   ]
  },
  {
   "cell_type": "markdown",
   "metadata": {},
   "source": [
    "## TASK\n",
    "\n",
    "Given that X(an independent Variable) is a predictor of y(dependent) variable, \n",
    "\n",
    "1. What linear regression equation best estimates y, based on X?\n",
    "\n",
    "2. what new value of y will the linear regression equation suggest in line with the previous data X?\n",
    "\n",
    "3. How well does the regression equation fit the data?"
   ]
  },
  {
   "cell_type": "markdown",
   "metadata": {},
   "source": [
    "## 1. What linear regression equation best estimates y, based on X?\n",
    "\n",
    "Using Scikit Learn (SKLEARN) Library, lets implement LinearRegression Class to train the Model and generate the regression equation"
   ]
  },
  {
   "cell_type": "markdown",
   "metadata": {},
   "source": [
    "## Model Training\n",
    "The dataset has only 6 observations so, we use all that observations to train and test the model "
   ]
  },
  {
   "cell_type": "code",
   "execution_count": 5,
   "metadata": {},
   "outputs": [
    {
     "data": {
      "text/plain": [
       "LinearRegression(copy_X=True, fit_intercept=True, n_jobs=1, normalize=False)"
      ]
     },
     "execution_count": 5,
     "metadata": {},
     "output_type": "execute_result"
    }
   ],
   "source": [
    "# Fitting Simple Linear Regression to the Dataset\n",
    "from sklearn.linear_model import LinearRegression\n",
    "regressor = LinearRegression()\n",
    "regressor.fit(X, y)"
   ]
  },
  {
   "cell_type": "markdown",
   "metadata": {},
   "source": [
    "> ### For Interpretation of model parameters: copy_X=True, fit_intercept=True, n_jobs=1 and normalize=False, click <a href=\"https://scikit-learn.org/stable/modules/generated/sklearn.linear_model.LinearRegression.html\">here</a>\n",
    "\n"
   ]
  },
  {
   "cell_type": "code",
   "execution_count": 6,
   "metadata": {},
   "outputs": [
    {
     "data": {
      "text/plain": [
       "0.8981055055474146"
      ]
     },
     "execution_count": 6,
     "metadata": {},
     "output_type": "execute_result"
    }
   ],
   "source": [
    "regressor.score(X,y)"
   ]
  },
  {
   "cell_type": "code",
   "execution_count": 7,
   "metadata": {},
   "outputs": [
    {
     "name": "stdout",
     "output_type": "stream",
     "text": [
      "0.38078291814946663\n"
     ]
    }
   ],
   "source": [
    "#Intercept b0\n",
    "\n",
    "print(regressor.intercept_)"
   ]
  },
  {
   "cell_type": "code",
   "execution_count": 8,
   "metadata": {},
   "outputs": [
    {
     "data": {
      "text/plain": [
       "array([0.93238434])"
      ]
     },
     "execution_count": 8,
     "metadata": {},
     "output_type": "execute_result"
    }
   ],
   "source": [
    "#coefficient or slope of regression\n",
    "\n",
    "regressor.coef_"
   ]
  },
  {
   "cell_type": "markdown",
   "metadata": {},
   "source": [
    "### Interpretaion of Linear Regression coefficient ~= 1.0 \n",
    "\n",
    "**A unit increase in X causes almost the same increase in y**"
   ]
  },
  {
   "cell_type": "code",
   "execution_count": 9,
   "metadata": {},
   "outputs": [
    {
     "name": "stdout",
     "output_type": "stream",
     "text": [
      "          X         y\n",
      "X  1.000000  0.947684\n",
      "y  0.947684  1.000000\n"
     ]
    }
   ],
   "source": [
    "#TO check correlation between variables\n",
    "\n",
    "cor = dataset.corr()\n",
    "\n",
    "print(cor)"
   ]
  },
  {
   "cell_type": "markdown",
   "metadata": {},
   "source": [
    ">Therefore, the equation of Linear regression for the task is \n",
    "\n",
    ">yhat = 0..9324X + 0.38078 \n",
    "\n",
    ">ie. when X = 7,\n",
    ">yhat ="
   ]
  },
  {
   "cell_type": "markdown",
   "metadata": {},
   "source": [
    "## 2. what new values of y will the linear regression equation suggest in line with the previous data X?"
   ]
  },
  {
   "cell_type": "markdown",
   "metadata": {},
   "source": [
    "## MODEL TESTING"
   ]
  },
  {
   "cell_type": "code",
   "execution_count": 10,
   "metadata": {},
   "outputs": [],
   "source": [
    "#Predicting the Dataset results on input feature alone\n",
    "\n",
    "y_pred = regressor.predict(X)\n",
    "#Note: store the result in y_pred"
   ]
  },
  {
   "cell_type": "code",
   "execution_count": 11,
   "metadata": {
    "scrolled": true
   },
   "outputs": [
    {
     "data": {
      "image/png": "[encoded data removed]",
      "text/plain": [
       "<matplotlib.figure.Figure at 0x170ab84ea90>"
      ]
     },
     "metadata": {},
     "output_type": "display_data"
    }
   ],
   "source": [
    "# Visualising the results\n",
    "plt.scatter(X, y, color = 'red') #Scatter plot of the X an y dataset\n",
    "\n",
    "plt.plot(X, regressor.predict(X), color = 'blue')#Line plot of X against predicted Y \n",
    "#(remember that output of regressor.predict is yhat)\n",
    "\n",
    "plt.title('Simple Linear Regression of Predictor vs Dependent variable')\n",
    "plt.xlabel('X (Predictor)')\n",
    "plt.ylabel('y (Dependent Variable)')\n",
    "plt.show()\n"
   ]
  },
  {
   "cell_type": "code",
   "execution_count": 12,
   "metadata": {},
   "outputs": [
    {
     "data": {
      "text/html": [
       "<div>\n",
       "<style scoped>\n",
       "    .dataframe tbody tr th:only-of-type {\n",
       "        vertical-align: middle;\n",
       "    }\n",
       "\n",
       "    .dataframe tbody tr th {\n",
       "        vertical-align: top;\n",
       "    }\n",
       "\n",
       "    .dataframe thead th {\n",
       "        text-align: right;\n",
       "    }\n",
       "</style>\n",
       "<table border=\"1\" class=\"dataframe\">\n",
       "  <thead>\n",
       "    <tr style=\"text-align: right;\">\n",
       "      <th></th>\n",
       "      <th>X</th>\n",
       "      <th>y</th>\n",
       "      <th>yhat</th>\n",
       "    </tr>\n",
       "  </thead>\n",
       "  <tbody>\n",
       "    <tr>\n",
       "      <th>0</th>\n",
       "      <td>-1</td>\n",
       "      <td>-1</td>\n",
       "      <td>-0.551601</td>\n",
       "    </tr>\n",
       "    <tr>\n",
       "      <th>1</th>\n",
       "      <td>1</td>\n",
       "      <td>2</td>\n",
       "      <td>1.313167</td>\n",
       "    </tr>\n",
       "    <tr>\n",
       "      <th>2</th>\n",
       "      <td>2</td>\n",
       "      <td>3</td>\n",
       "      <td>2.245552</td>\n",
       "    </tr>\n",
       "    <tr>\n",
       "      <th>3</th>\n",
       "      <td>4</td>\n",
       "      <td>3</td>\n",
       "      <td>4.110320</td>\n",
       "    </tr>\n",
       "    <tr>\n",
       "      <th>4</th>\n",
       "      <td>6</td>\n",
       "      <td>5</td>\n",
       "      <td>5.975089</td>\n",
       "    </tr>\n",
       "    <tr>\n",
       "      <th>5</th>\n",
       "      <td>7</td>\n",
       "      <td>8</td>\n",
       "      <td>6.907473</td>\n",
       "    </tr>\n",
       "  </tbody>\n",
       "</table>\n",
       "</div>"
      ],
      "text/plain": [
       "   X  y      yhat\n",
       "0 -1 -1 -0.551601\n",
       "1  1  2  1.313167\n",
       "2  2  3  2.245552\n",
       "3  4  3  4.110320\n",
       "4  6  5  5.975089\n",
       "5  7  8  6.907473"
      ]
     },
     "execution_count": 12,
     "metadata": {},
     "output_type": "execute_result"
    }
   ],
   "source": [
    "#Adding the result column to the existing dataset table\n",
    "\n",
    "dataset['yhat'] = y_pred\n",
    "\n",
    "dataset"
   ]
  },
  {
   "cell_type": "code",
   "execution_count": 13,
   "metadata": {
    "scrolled": true
   },
   "outputs": [
    {
     "data": {
      "image/png": "[encoded data removed]",
      "text/plain": [
       "<matplotlib.figure.Figure at 0x170adb70b00>"
      ]
     },
     "metadata": {},
     "output_type": "display_data"
    }
   ],
   "source": [
    "#A bar plot showing the diffrence between actual value (y) and predicted value (yhat)\n",
    "dataset[['y','yhat']].plot(kind='bar',figsize=(16,10))\n",
    "plt.grid(which='major', linestyle='-', linewidth='0.5', color='green')\n",
    "plt.grid(which='minor', linestyle=':', linewidth='0.5', color='black')\n",
    "plt.show()"
   ]
  },
  {
   "cell_type": "markdown",
   "metadata": {},
   "source": [
    "## 3. How well does the regression equation fit the data?\n",
    " \n",
    "This is a function of the model error established from model evaluation"
   ]
  },
  {
   "cell_type": "markdown",
   "metadata": {},
   "source": [
    "## Evaluation Metrics for Regression Models\n",
    "\n",
    "Error is the difference between y and yhat at each observation\n",
    "\n",
    "\\begin{equation*}\n",
    " y_i-\\hat{y}_i\n",
    "\\end{equation*}\n",
    "\n",
    "cost function is the summation of all error function from all predictions\n",
    "\n",
    "\n",
    "\\begin{equation*}\n",
    "y_i-\\hat{y}_i\n",
    "\\end{equation*}\n",
    "\n",
    "Mean Absolute Error (MAE) is the mean of the absolute value of the errors:\n",
    "\n",
    "\\begin{equation*}\n",
    "\\frac 1n\\sum_{i=1}^n|y_i-\\hat{y}_i|\n",
    "\\end{equation*}\n",
    "\n",
    "Mean Squared Error (MSE) is the mean of the squared errors:\n",
    "\n",
    "\\begin{equation*}\n",
    "\\frac 1n\\sum_{i=1}^n(y_i-\\hat{y}_i)^2\n",
    "\\end{equation*}\n",
    " \n",
    "Root Mean Squared Error (RMSE) is the square root of the mean of the squared errors:\n",
    "\n",
    "\\begin{equation*}\n",
    "\\sqrt{\\frac 1n\\sum_{i=1}^n(y_i-\\hat{y}_i)^2}\n",
    "\\end{equation*}\n",
    " \n"
   ]
  },
  {
   "cell_type": "markdown",
   "metadata": {},
   "source": [
    "## Do it yourself approach to solve the above equation\n",
    " \n"
   ]
  },
  {
   "cell_type": "code",
   "execution_count": 14,
   "metadata": {},
   "outputs": [],
   "source": [
    "#Slicing out the Actual outout(y) and Predicted output (yhat)\n",
    "result = dataset[['y', 'yhat']]"
   ]
  },
  {
   "cell_type": "code",
   "execution_count": 15,
   "metadata": {},
   "outputs": [
    {
     "name": "stdout",
     "output_type": "stream",
     "text": [
      "   y      yhat     error\n",
      "0 -1 -0.551601 -0.448399\n",
      "1  2  1.313167  0.686833\n",
      "2  3  2.245552  0.754448\n",
      "3  3  4.110320 -1.110320\n",
      "4  5  5.975089 -0.975089\n",
      "5  8  6.907473  1.092527\n",
      "\n",
      "5.06761565836299\n",
      "0.8446026097271649\n"
     ]
    }
   ],
   "source": [
    "#creating a column in the result to store mean errors from all observations\n",
    "n = len(dataset)\n",
    "\n",
    "#Error from each prediction\n",
    "result['error'] = dataset['y'].subtract(dataset['yhat'])\n",
    "\n",
    "print(result)\n",
    "\n",
    "#summation of all error function from all predictions\n",
    "cost_function = abs(result['error']).sum()\n",
    "\n",
    "Mean_Absolute_Error = cost_function / n\n",
    "\n",
    "\n",
    "\n",
    "\n",
    "print()\n",
    "\n",
    "print(cost_function)\n",
    "print(Mean_Absolute_Error)"
   ]
  },
  {
   "cell_type": "raw",
   "metadata": {},
   "source": [
    "## Using SKLEARN regression metrics"
   ]
  },
  {
   "cell_type": "code",
   "execution_count": 16,
   "metadata": {},
   "outputs": [
    {
     "name": "stdout",
     "output_type": "stream",
     "text": [
      "Mean Absolute Error: 0.8446026097271649\n",
      "Mean Squared Error: 0.7698695136417557\n",
      "Root Mean Squared Error: 0.8774220840859636\n"
     ]
    }
   ],
   "source": [
    "from sklearn import metrics\n",
    "\n",
    "print('Mean Absolute Error:', metrics.mean_absolute_error(y, y_pred))  \n",
    "print('Mean Squared Error:', metrics.mean_squared_error(y, y_pred))  \n",
    "print('Root Mean Squared Error:', np.sqrt(metrics.mean_squared_error(y, y_pred)))"
   ]
  },
  {
   "cell_type": "markdown",
   "metadata": {},
   "source": [
    "## Conclusion\n",
    "\n",
    "The disparity between the actual y and predicted yhat  and shows that the algorithm is not very accurate.\n",
    "\n",
    "Many factors may have contributed to this inaccuracy:\n",
    "\n",
    "* Relatively small data: We need to have a huge amount of data to get the best possible prediction. \n",
    "\n",
    "\n",
    "* Bad assumptions: We made the assumption that this data has a linear relationship, but that might not be the case. Visualizing\n",
    " the data may help you determine that.\n",
    " \n",
    "\n",
    "* Poor feature: The feature (X) may not have had a high enough correlation to the value (y) we were trying to predict."
   ]
  },
  {
   "cell_type": "markdown",
   "metadata": {},
   "source": [
    "# Assignment\n",
    "\n",
    "Download the **\"Salary data\"** attached in the repository\n",
    "The dataset contains:\n",
    "\n",
    "* feature (X) representing years of experience\n",
    "* Target (y) representing Salary\n",
    "\n",
    "**Task:**\n",
    "1. What linear regression equation best estimates Salary, based on Experience?\n",
    "\n",
    "2. what new value of y will the linear regression equation suggest in line with 20% split of the previous Salary?\n",
    "\n",
    "3. How well does the regression equation fit the data?"
   ]
  },
  {
   "cell_type": "markdown",
   "metadata": {},
   "source": [
    "### Lets explore some of the factors listed out under conclusion\n",
    "\n",
    "**VISUALIZING THE DATA ON SCATTER PLOT**"
   ]
  },
  {
   "cell_type": "code",
   "execution_count": 17,
   "metadata": {},
   "outputs": [
    {
     "data": {
      "image/png": "[encoded data removed]",
      "text/plain": [
       "<matplotlib.figure.Figure at 0x170ab7ee9b0>"
      ]
     },
     "metadata": {},
     "output_type": "display_data"
    }
   ],
   "source": [
    "#VISUALIZING THE DATA ON SCATTER PLOT AS SUGGESTED UNDER THE SECOND FACTOR **BAD ASSUMPTION** \n",
    "\n",
    "plt.scatter(X,y,)\n",
    "plt.show()"
   ]
  },
  {
   "cell_type": "markdown",
   "metadata": {},
   "source": [
    "As shown in the above figure, the relationship between X and Y can not be represented by staright line. it rather depict something like ths:\n",
    "   <img src='./Images/Right.jpg' width= 500, height = 300>\n",
    "   \n",
    "In this case, we try using **polynomial regression** which is a form of regression analysis in which the relationship between the independent variable x and the dependent variable y is modelled as an nth degree polynomial in x."
   ]
  },
  {
   "cell_type": "code",
   "execution_count": 18,
   "metadata": {},
   "outputs": [
    {
     "data": {
      "text/plain": [
       "PolynomialFeatures(degree=4, include_bias=True, interaction_only=False)"
      ]
     },
     "execution_count": 18,
     "metadata": {},
     "output_type": "execute_result"
    }
   ],
   "source": [
    "#Importing Polynomial Feature class from SKLearn\n",
    "\n",
    "from sklearn.preprocessing import PolynomialFeatures\n",
    "poly_reg = PolynomialFeatures(degree = 4) #Degree depicts the Curves\n",
    "X_poly = poly_reg.fit_transform(X)\n",
    "poly_reg.fit(X_poly, y) #Transform X as polynomial feature"
   ]
  },
  {
   "cell_type": "code",
   "execution_count": 19,
   "metadata": {},
   "outputs": [
    {
     "data": {
      "text/plain": [
       "LinearRegression(copy_X=True, fit_intercept=True, n_jobs=1, normalize=False)"
      ]
     },
     "execution_count": 19,
     "metadata": {},
     "output_type": "execute_result"
    }
   ],
   "source": [
    "regressor_2 = LinearRegression()\n",
    "regressor_2.fit(X_poly, y)"
   ]
  },
  {
   "cell_type": "code",
   "execution_count": 20,
   "metadata": {},
   "outputs": [
    {
     "data": {
      "text/plain": [
       "0.99828352180937"
      ]
     },
     "execution_count": 20,
     "metadata": {},
     "output_type": "execute_result"
    }
   ],
   "source": [
    "regressor_2.score(X_poly,y)"
   ]
  },
  {
   "cell_type": "code",
   "execution_count": 21,
   "metadata": {},
   "outputs": [],
   "source": [
    "# Predicting a new result with Polynomial Regression\n",
    "Poly_pred = regressor_2.predict(poly_reg.fit_transform(X))"
   ]
  },
  {
   "cell_type": "code",
   "execution_count": 22,
   "metadata": {},
   "outputs": [
    {
     "name": "stdout",
     "output_type": "stream",
     "text": [
      "regression intercept=  0.8507269789983924\n"
     ]
    }
   ],
   "source": [
    "#print('regression coefficient= ', regressor_2.coef_)\n",
    "\n",
    "print('regression intercept= ', regressor_2.intercept_)"
   ]
  },
  {
   "cell_type": "code",
   "execution_count": 23,
   "metadata": {},
   "outputs": [
    {
     "data": {
      "image/png": "[encoded data removed]",
      "text/plain": [
       "<matplotlib.figure.Figure at 0x170adc625c0>"
      ]
     },
     "metadata": {},
     "output_type": "display_data"
    }
   ],
   "source": [
    "# Visualising the Polynomial Regression results\n",
    "plt.scatter(X, y, color = 'red')\n",
    "plt.plot(X, regressor_2.predict(poly_reg.fit_transform(X)), color = 'blue')\n",
    "plt.title('Truth or Bluff (Polynomial Regression)')\n",
    "plt.xlabel('Position level')\n",
    "plt.ylabel('Salary')\n",
    "plt.show()"
   ]
  },
  {
   "cell_type": "code",
   "execution_count": 24,
   "metadata": {},
   "outputs": [
    {
     "data": {
      "text/html": [
       "<div>\n",
       "<style scoped>\n",
       "    .dataframe tbody tr th:only-of-type {\n",
       "        vertical-align: middle;\n",
       "    }\n",
       "\n",
       "    .dataframe tbody tr th {\n",
       "        vertical-align: top;\n",
       "    }\n",
       "\n",
       "    .dataframe thead th {\n",
       "        text-align: right;\n",
       "    }\n",
       "</style>\n",
       "<table border=\"1\" class=\"dataframe\">\n",
       "  <thead>\n",
       "    <tr style=\"text-align: right;\">\n",
       "      <th></th>\n",
       "      <th>X</th>\n",
       "      <th>y</th>\n",
       "      <th>yhat</th>\n",
       "      <th>yhat_poly</th>\n",
       "    </tr>\n",
       "  </thead>\n",
       "  <tbody>\n",
       "    <tr>\n",
       "      <th>0</th>\n",
       "      <td>-1</td>\n",
       "      <td>-1</td>\n",
       "      <td>-0.551601</td>\n",
       "      <td>-1.013732</td>\n",
       "    </tr>\n",
       "    <tr>\n",
       "      <th>1</th>\n",
       "      <td>1</td>\n",
       "      <td>2</td>\n",
       "      <td>1.313167</td>\n",
       "      <td>2.128164</td>\n",
       "    </tr>\n",
       "    <tr>\n",
       "      <th>2</th>\n",
       "      <td>2</td>\n",
       "      <td>3</td>\n",
       "      <td>2.245552</td>\n",
       "      <td>2.807754</td>\n",
       "    </tr>\n",
       "    <tr>\n",
       "      <th>3</th>\n",
       "      <td>4</td>\n",
       "      <td>3</td>\n",
       "      <td>4.110320</td>\n",
       "      <td>3.128164</td>\n",
       "    </tr>\n",
       "    <tr>\n",
       "      <th>4</th>\n",
       "      <td>6</td>\n",
       "      <td>5</td>\n",
       "      <td>5.975089</td>\n",
       "      <td>4.917609</td>\n",
       "    </tr>\n",
       "    <tr>\n",
       "      <th>5</th>\n",
       "      <td>7</td>\n",
       "      <td>8</td>\n",
       "      <td>6.907473</td>\n",
       "      <td>8.032041</td>\n",
       "    </tr>\n",
       "  </tbody>\n",
       "</table>\n",
       "</div>"
      ],
      "text/plain": [
       "   X  y      yhat  yhat_poly\n",
       "0 -1 -1 -0.551601  -1.013732\n",
       "1  1  2  1.313167   2.128164\n",
       "2  2  3  2.245552   2.807754\n",
       "3  4  3  4.110320   3.128164\n",
       "4  6  5  5.975089   4.917609\n",
       "5  7  8  6.907473   8.032041"
      ]
     },
     "execution_count": 24,
     "metadata": {},
     "output_type": "execute_result"
    }
   ],
   "source": [
    "dataset['yhat_poly'] = Poly_pred\n",
    "\n",
    "dataset"
   ]
  },
  {
   "cell_type": "code",
   "execution_count": 26,
   "metadata": {},
   "outputs": [
    {
     "data": {
      "image/png": "[encoded data removed]",
      "text/plain": [
       "<matplotlib.figure.Figure at 0x170adec6c18>"
      ]
     },
     "metadata": {},
     "output_type": "display_data"
    }
   ],
   "source": [
    "#A bar plot showing the diffrence between actual value (y) and predicted value using polynomial regression (yhat_poly)\n",
    "dataset[['y', 'yhat_poly']].plot(kind='bar',figsize=(16,10))\n",
    "plt.grid(which='major', linestyle='-', linewidth='0.5', color='green')\n",
    "plt.grid(which='minor', linestyle=':', linewidth='0.5', color='black')\n",
    "plt.show()"
   ]
  },
  {
   "cell_type": "code",
   "execution_count": null,
   "metadata": {},
   "outputs": [],
   "source": []
  }
 ],
 "metadata": {
  "kernelspec": {
   "display_name": "Python 3",
   "language": "python",
   "name": "python3"
  },
  "language_info": {
   "codemirror_mode": {
    "name": "ipython",
    "version": 3
   },
   "file_extension": ".py",
   "mimetype": "text/x-python",
   "name": "python",
   "nbconvert_exporter": "python",
   "pygments_lexer": "ipython3",
   "version": "3.7.4"
  }
 },
 "nbformat": 4,
 "nbformat_minor": 2
}
